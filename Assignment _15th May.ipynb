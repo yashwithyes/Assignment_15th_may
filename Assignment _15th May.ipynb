{
 "cells": [
  {
   "cell_type": "raw",
   "id": "c97d0c8f-7264-4a5d-9c70-eca973c3b7c0",
   "metadata": {},
   "source": [
    "Q1. There are two types \n",
    "     1. Single line : using # we can comment out the line after this # character \n",
    "     2. Multi line : although like other language there is not specific command but using multi line string using \"\"\" this we                        can do that\n",
    "     "
   ]
  },
  {
   "cell_type": "raw",
   "id": "f1fb6f01-13bb-4df6-b408-e2c335761ff7",
   "metadata": {},
   "source": [
    "Q2. Variables are used for to store and manipulate data, they act as placeholder and can hold different types of values such as     numbers, strings, objects. and in python it is more easy because we don't have specify the type of the value. \n",
    "    For declare and assign values in pyhton we use '=' "
   ]
  },
  {
   "cell_type": "raw",
   "id": "6f4fba0f-f70a-427c-9289-81d126ebd7e3",
   "metadata": {},
   "source": [
    "Q3. 1. Implicit type conversion : Pyhton does the conversion automatically when it appears the need to do so,  example: x=10          y=1.5 , x+y=11.5,  here pyhton automatically converts x in to floating number.\n",
    "    2. Explicit type conversion : we convert it manualy through functions as below: \n",
    "       int() = to converts value into integer data type \n",
    "       str() = to converts the value into string data type \n",
    "       float() = to convert the values into floating point data type\n",
    "       list()= to convert the values into list data type \n",
    "       tuple()= to convert the values into tuple data type \n",
    "       dict()= to convert the values into dictionary data type \n",
    "       \n",
    "       "
   ]
  },
  {
   "cell_type": "raw",
   "id": "6c4f797b-85ef-4b65-93d6-7e20b1be90bc",
   "metadata": {},
   "source": [
    "Q4. To do that first in any text editor write the code and save the file with .py extention then open command prompt or terminal then locate the file path and type python script.py (\"script= your file name\") and done"
   ]
  },
  {
   "cell_type": "code",
   "execution_count": 9,
   "id": "eb11a4d8-a536-4475-a151-0ec9b67f39bd",
   "metadata": {},
   "outputs": [],
   "source": [
    "#Q5\n",
    "my_list = [1,2,3,4,5]\n",
    "sub_list = my_list[1:3]"
   ]
  },
  {
   "cell_type": "code",
   "execution_count": 10,
   "id": "25ff2c92-757d-4232-9dbc-d46424060068",
   "metadata": {},
   "outputs": [
    {
     "data": {
      "text/plain": [
       "[2, 3]"
      ]
     },
     "execution_count": 10,
     "metadata": {},
     "output_type": "execute_result"
    }
   ],
   "source": [
    "sub_list"
   ]
  },
  {
   "cell_type": "raw",
   "id": "c4925952-baac-4226-b5a3-bdb2993c9db7",
   "metadata": {},
   "source": [
    "Q6. In mathematics, complex numbers are the numbers which combines with real numbers and imaginary numbers, \n",
    "    In pyhton, to show imaginary part we use small j as a expamle 4+3j"
   ]
  },
  {
   "cell_type": "code",
   "execution_count": 11,
   "id": "7355e673-ad38-4daa-a80b-1701a5f068b7",
   "metadata": {},
   "outputs": [],
   "source": [
    "#Q7. \n",
    "AGE = 25"
   ]
  },
  {
   "cell_type": "code",
   "execution_count": 12,
   "id": "1fdfdb66-ed30-4af5-81a5-421d5f6e2cb0",
   "metadata": {},
   "outputs": [
    {
     "data": {
      "text/plain": [
       "25"
      ]
     },
     "execution_count": 12,
     "metadata": {},
     "output_type": "execute_result"
    }
   ],
   "source": [
    "AGE"
   ]
  },
  {
   "cell_type": "code",
   "execution_count": 13,
   "id": "36becb41-cc80-4b8e-add7-93cf82859a8e",
   "metadata": {},
   "outputs": [],
   "source": [
    "#Q8.\n",
    "price = 9.99"
   ]
  },
  {
   "cell_type": "code",
   "execution_count": 14,
   "id": "18e6cc70-4cdb-4d3e-aaa4-cfd8a39c3c5b",
   "metadata": {},
   "outputs": [
    {
     "data": {
      "text/plain": [
       "float"
      ]
     },
     "execution_count": 14,
     "metadata": {},
     "output_type": "execute_result"
    }
   ],
   "source": [
    "type(price)"
   ]
  },
  {
   "cell_type": "code",
   "execution_count": 17,
   "id": "8cd3636b-eb79-446e-a624-4b8882f2f232",
   "metadata": {},
   "outputs": [
    {
     "name": "stdout",
     "output_type": "stream",
     "text": [
      "Yashkumar Mehta\n"
     ]
    }
   ],
   "source": [
    "#Q9.\n",
    "Name = \"Yashkumar Mehta\"\n",
    "print(Name)"
   ]
  },
  {
   "cell_type": "code",
   "execution_count": 21,
   "id": "8d259359-d6d8-403d-9d82-5a58b6a3ba79",
   "metadata": {},
   "outputs": [
    {
     "data": {
      "text/plain": [
       "'World'"
      ]
     },
     "execution_count": 21,
     "metadata": {},
     "output_type": "execute_result"
    }
   ],
   "source": [
    "#Q10.\n",
    "string = \"Hello, World!\"\n",
    "string[7:12]"
   ]
  },
  {
   "cell_type": "code",
   "execution_count": 37,
   "id": "126c8f14-ad41-4d7a-9194-d61d28f31996",
   "metadata": {},
   "outputs": [],
   "source": [
    "#Q11.\n",
    "is_student = True #I am a student so i assign it to a True value "
   ]
  },
  {
   "cell_type": "code",
   "execution_count": 38,
   "id": "3fbcad39-af02-45ae-89e8-f04659c7e782",
   "metadata": {},
   "outputs": [
    {
     "data": {
      "text/plain": [
       "True"
      ]
     },
     "execution_count": 38,
     "metadata": {},
     "output_type": "execute_result"
    }
   ],
   "source": [
    "is_student "
   ]
  },
  {
   "cell_type": "code",
   "execution_count": null,
   "id": "74e4251d-6bdb-4fb5-ac1b-326586f551b2",
   "metadata": {},
   "outputs": [],
   "source": []
  }
 ],
 "metadata": {
  "kernelspec": {
   "display_name": "Python 3 (ipykernel)",
   "language": "python",
   "name": "python3"
  },
  "language_info": {
   "codemirror_mode": {
    "name": "ipython",
    "version": 3
   },
   "file_extension": ".py",
   "mimetype": "text/x-python",
   "name": "python",
   "nbconvert_exporter": "python",
   "pygments_lexer": "ipython3",
   "version": "3.10.8"
  }
 },
 "nbformat": 4,
 "nbformat_minor": 5
}
